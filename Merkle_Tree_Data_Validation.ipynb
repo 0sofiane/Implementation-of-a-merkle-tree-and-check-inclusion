{
 "cells": [
  {
   "cell_type": "markdown",
   "metadata": {},
   "source": [
    "# KARTOBI Sofiane \n",
    "# Implementation of a merkle tree and check inclusion (data validation)"
   ]
  },
  {
   "cell_type": "markdown",
   "metadata": {},
   "source": [
    "This work is based on several videos I've watched, but here are the key ones that helped the most : \n",
    "- Bitcoin 101 - Merkle Roots and Merkle Trees : https://youtu.be/gUwXCt1qkBU?si=D9DPsnTCqKVUx79m\n",
    "- The Blockchain & Bitcoin -Computerphile : https://youtu.be/qcuc3rgwZAE?si=9dvtsewFpscH0TRW\n",
    "- How Merkle Trees Enable Decentralized Web : https://youtu.be/YIc6MNfv5iQ?si=P-CbTW0OceOjK28p \n",
    "\n",
    "These videos made me refresh my memory from the last lecture and helped dig deeper into the subject like the importance of merkle trees, how they are implemented and how it actually revolutionnzed Blockchain and Bitcoin\n",
    "\n",
    "After watching these videos carefully first, I was able to then understand articles quickly that had source code.\n",
    "\n",
    "I've found this article on Medium very complete and helpful but its source code in nodejs :\n",
    "https://medium.com/coinmonks/merkle-tree-a-simple-explanation-and-implementation-48903442bc08 \n",
    "\n",
    "This article is also very rich but the code was in C# : https://www.codeproject.com/Articles/1176140/Understanding-Merkle-Trees-Why-use-them-who-uses-t#HowDoesDataVerification(AuditProof)Work13\n",
    "\n"
   ]
  },
  {
   "cell_type": "markdown",
   "metadata": {},
   "source": [
    "## In short here's what I've understood so far"
   ]
  },
  {
   "cell_type": "markdown",
   "metadata": {},
   "source": [
    " - Merkle tree is just a way of representing a data, so to check whether or not we have the same file (data set) we just compare the merkle root\n",
    " - The leaves are chunks of data that can come from peers in the network and they are not safe and we can't trust them\n",
    "-  When it comes to partial validation, which means verifying whether or not, a chunk or set of data belongs to a certain file, or in a block chain context, we verify if a transcation belongs to a certain block, It's more efficient to verify in a merkle tree because we only look for branches that the transcations belongs to , instead of using a whole loop to go through an entire list of hashes \n",
    "- The complexity here is logarithmic and hence less than a loop, since we will need only few additional data (log(n)) to check the inclusion of data, to help us calculte the root "
   ]
  },
  {
   "cell_type": "markdown",
   "metadata": {},
   "source": [
    "![Merkle Tree](https://miro.medium.com/v2/resize:fit:1100/format:webp/1*4Pl5Rfi6aZxgqHpJP53ZxQ.jpeg)\n"
   ]
  },
  {
   "cell_type": "markdown",
   "metadata": {},
   "source": [
    "## Importing libraries"
   ]
  },
  {
   "cell_type": "code",
   "execution_count": 1,
   "metadata": {},
   "outputs": [],
   "source": [
    "import hashlib #to use SHA-256 hash function\n",
    "import collections #for creating merkle tree"
   ]
  },
  {
   "cell_type": "markdown",
   "metadata": {},
   "source": [
    "## Defining Helper functions\n",
    "\n",
    "- The \"ensure_even()\" function helps us make sure the chunks of data are even so that we can later on concatenate them and hash them in pairs, if not we copy the last one and hash it with itself \n",
    "- The \"get_leaf_node_direction_in_merkle_tree()\" function help us determine if the hash in a left or right child, which is very important as the order(direction) of hashes when concatenating can give different outcomes"
   ]
  },
  {
   "cell_type": "code",
   "execution_count": 2,
   "metadata": {},
   "outputs": [],
   "source": [
    "def ensure_even(hashes):\n",
    "    if len(hashes) % 2 != 0:\n",
    "        hashes.append(hashes[-1])\n",
    "\n",
    "def get_leaf_node_direction_in_merkle_tree(hash, merkle_tree):\n",
    "    hash_index = merkle_tree[0].index(hash)\n",
    "    return \"left\" if hash_index % 2 == 0 else \"right\"\n"
   ]
  },
  {
   "cell_type": "markdown",
   "metadata": {},
   "source": [
    "## Define the main functions\n",
    "- We use recursion to concatenate hashes and then hash the concatenation using sha256. So it first do this process on the leaf level and then gets to the top until there's only one hash left which is the merkle root"
   ]
  },
  {
   "cell_type": "code",
   "execution_count": 3,
   "metadata": {},
   "outputs": [],
   "source": [
    "def generate_merkle_root(hashes):\n",
    "    if not hashes or len(hashes) == 0:\n",
    "        return \"\"\n",
    "\n",
    "    ensure_even(hashes)\n",
    "\n",
    "    combined_hashes = []\n",
    "    for i in range(0, len(hashes), 2):\n",
    "        hash_pair_concatenated = hashes[i] + hashes[i + 1]\n",
    "        hash = hashlib.sha256(hash_pair_concatenated.encode()).hexdigest()\n",
    "        combined_hashes.append(hash)\n",
    "\n",
    "    if len(combined_hashes) == 1:\n",
    "        return combined_hashes[0]\n",
    "\n",
    "    return generate_merkle_root(combined_hashes)"
   ]
  },
  {
   "cell_type": "markdown",
   "metadata": {},
   "source": [
    "This function works by recursively concatenating each pair of hash hashes with the correct tree branch direction (left, right) and calculating the sha256 hash of the concatenated pair, until the merkle root hash is generated and returned."
   ]
  },
  {
   "cell_type": "code",
   "execution_count": 4,
   "metadata": {},
   "outputs": [],
   "source": [
    "def get_merkle_root_from_merkle_proof(merkle_proof):\n",
    "    if not merkle_proof or len(merkle_proof) == 0:\n",
    "        return \"\"\n",
    "\n",
    "    merkle_root_from_proof = merkle_proof[0][\"hash\"]\n",
    "    for node in merkle_proof[1:]:\n",
    "        if node[\"direction\"] == \"right\":\n",
    "            merkle_root_from_proof = hashlib.sha256((merkle_root_from_proof + node[\"hash\"]).encode()).hexdigest()\n",
    "        else:\n",
    "            merkle_root_from_proof = hashlib.sha256((node[\"hash\"] + merkle_root_from_proof).encode()).hexdigest()\n",
    "\n",
    "    return merkle_root_from_proof\n"
   ]
  },
  {
   "cell_type": "markdown",
   "metadata": {},
   "source": [
    "We start creating a tree by appending the first list of hashes which is gonna represent the leaves (level=0)\n",
    "Then using recursion we will concatenate and hash pairs of hash until the list lenght is 1 which means we obtained the root"
   ]
  },
  {
   "cell_type": "code",
   "execution_count": 5,
   "metadata": {},
   "outputs": [],
   "source": [
    "def generate_merkle_tree(hashes):\n",
    "    if not hashes or len(hashes) == 0:\n",
    "        return []\n",
    "    \n",
    "    tree = [hashes]\n",
    "\n",
    "    def generate(hashes, tree):\n",
    "        if len(hashes) == 1:\n",
    "            return hashes\n",
    "\n",
    "        ensure_even(hashes)\n",
    "\n",
    "        combined_hashes = []\n",
    "        for i in range(0, len(hashes), 2):\n",
    "            hashes_concatenated = hashes[i] + hashes[i + 1]\n",
    "            hash = hashlib.sha256(hashes_concatenated.encode()).hexdigest()\n",
    "            combined_hashes.append(hash)\n",
    "\n",
    "        tree.append(combined_hashes)\n",
    "        return generate(combined_hashes, tree)\n",
    "\n",
    "    generate(hashes, tree)\n",
    "    return tree"
   ]
  },
  {
   "cell_type": "markdown",
   "metadata": {},
   "source": [
    "There's a pattern : for n transactions we need  about log(n) hashes to check inclusion (Medium article)\n",
    "\n",
    "We first generate the tree using the hashes of our transactions\n",
    "Then start the merkle proof list with the hash we are checking, and we will append new hashes while looking for nodes that help us find the root based on the hash\n",
    "\n",
    "We first start with base level (leaves) find the index of the transaction then check if it is a left or right child.\n",
    "Left childs have even indexes and right childs have odd indexes\n",
    "Then we add the node to the proof \n",
    "After that we look for the parent index on the next level by dividing by 2 and taking the integer part "
   ]
  },
  {
   "cell_type": "code",
   "execution_count": 6,
   "metadata": {},
   "outputs": [],
   "source": [
    "def generate_merkle_proof(hash, hashes):\n",
    "    if not hash or not hashes or len(hashes) == 0:\n",
    "        return None\n",
    "\n",
    "    tree = generate_merkle_tree(hashes)\n",
    "\n",
    "    merkle_proof = [{\n",
    "        \"hash\": hash,\n",
    "        \"direction\": get_leaf_node_direction_in_merkle_tree(hash, tree)\n",
    "    }]\n",
    "\n",
    "    hash_index = tree[0].index(hash)\n",
    "    for level in range(0, len(tree) - 1):\n",
    "        is_left_child = hash_index % 2 == 0\n",
    "        sibling_direction = \"right\" if is_left_child else \"left\"\n",
    "        sibling_index = hash_index + 1 if is_left_child else hash_index - 1\n",
    "        sibling_node = {\n",
    "            \"hash\": tree[level][sibling_index],\n",
    "            \"direction\": sibling_direction\n",
    "        }\n",
    "        merkle_proof.append(sibling_node)\n",
    "        hash_index = hash_index // 2\n",
    "\n",
    "    return  merkle_proof\n"
   ]
  },
  {
   "cell_type": "markdown",
   "metadata": {},
   "source": [
    "## Testing the functions on random hashes"
   ]
  },
  {
   "cell_type": "code",
   "execution_count": 7,
   "metadata": {},
   "outputs": [],
   "source": [
    "hashes = [\n",
    "    '95cd603fe577fa9548ec0c9b50b067566fe07c8af6acba45f6196f3a15d511f6',\n",
    "    '709b55bd3da0f5a838125bd0ee20c5bfdd7caba173912d4281cae816b79a201b',\n",
    "    '27ca64c092a959c7edc525ed45e845b1de6a7590d173fd2fad9133c8a779a1e3',\n",
    "    '1f3cb18e896256d7d6bb8c11a6ec71f005c75de05e39beae5d93bbd1e2c8b7a9',\n",
    "    '41b637cfd9eb3e2f60f734f9ca44e5c1559c6f481d49d6ed6891f3e9a086ac78',\n",
    "    'a8c0cce8bb067e91cf2766c26be4e5d7cfba3d3323dc19d08a834391a1ce5acf',\n",
    "    'd20a624740ce1b7e2c74659bb291f665c021d202be02d13ce27feb067eeec837',\n",
    "    '281b9dba10658c86d0c3c267b82b8972b6c7b41285f60ce2054211e69dd89e15',\n",
    "    'df743dd1973e1c7d46968720b931af0afa8ec5e8412f9420006b7b4fa660ba8d',\n",
    "    '3e812f40cd8e4ca3a92972610409922dedf1c0dbc68394fcb1c8f188a42655e2',\n",
    "    '3ebc2bd1d73e4f2f1f2af086ad724c98c8030f74c0c2be6c2d6fd538c711f35c',\n",
    "    '9789f4e2339193149452c1a42cded34f7a301a13196cd8200246af7cc1e33c3b',\n",
    "    'aefe99f12345aabc4aa2f000181008843c8abf57ccf394710b2c48ed38e1a66a',\n",
    "    '64f662d104723a4326096ffd92954e24f2bf5c3ad374f04b10fcc735bc901a4d',\n",
    "    '95a73895c9c6ee0fadb8d7da2fac25eb523fc582dc12c40ec793f0c1a70893b4',\n",
    "    '315987563da5a1f3967053d445f73107ed6388270b00fb99a9aaa26c56ecba2b',\n",
    "    '09caa1de14f86c5c19bf53cadc4206fd872a7bf71cda9814b590eb8c6e706fbb',\n",
    "    '9d04d59d713b607c81811230645ce40afae2297f1cdc1216c45080a5c2e86a5a',\n",
    "    'ab8a58ff2cf9131f9730d94b9d67f087f5d91aebc3c032b6c5b7b810c47e0132',\n",
    "    'c7c3f15b67d59190a6bbe5d98d058270aee86fe1468c73e00a4e7dcc7efcd3a0',\n",
    "    '27ef2eaa77544d2dd325ce93299fcddef0fae77ae72f510361fa6e5d831610b2'\n",
    "]"
   ]
  },
  {
   "cell_type": "markdown",
   "metadata": {},
   "source": [
    "### Generating Merkle Root"
   ]
  },
  {
   "cell_type": "code",
   "execution_count": 8,
   "metadata": {},
   "outputs": [
    {
     "data": {
      "text/plain": [
       "'68e6cdf0cae7fb8eef39cc899c8882e34dd1727a2d08f2303811886949c539e6'"
      ]
     },
     "execution_count": 8,
     "metadata": {},
     "output_type": "execute_result"
    }
   ],
   "source": [
    "merkleRoot = generate_merkle_root(hashes=hashes)\n",
    "merkleRoot"
   ]
  },
  {
   "cell_type": "markdown",
   "metadata": {},
   "source": [
    "### Generating Merkle Tree"
   ]
  },
  {
   "cell_type": "code",
   "execution_count": 9,
   "metadata": {},
   "outputs": [
    {
     "data": {
      "text/plain": [
       "[['95cd603fe577fa9548ec0c9b50b067566fe07c8af6acba45f6196f3a15d511f6',\n",
       "  '709b55bd3da0f5a838125bd0ee20c5bfdd7caba173912d4281cae816b79a201b',\n",
       "  '27ca64c092a959c7edc525ed45e845b1de6a7590d173fd2fad9133c8a779a1e3',\n",
       "  '1f3cb18e896256d7d6bb8c11a6ec71f005c75de05e39beae5d93bbd1e2c8b7a9',\n",
       "  '41b637cfd9eb3e2f60f734f9ca44e5c1559c6f481d49d6ed6891f3e9a086ac78',\n",
       "  'a8c0cce8bb067e91cf2766c26be4e5d7cfba3d3323dc19d08a834391a1ce5acf',\n",
       "  'd20a624740ce1b7e2c74659bb291f665c021d202be02d13ce27feb067eeec837',\n",
       "  '281b9dba10658c86d0c3c267b82b8972b6c7b41285f60ce2054211e69dd89e15',\n",
       "  'df743dd1973e1c7d46968720b931af0afa8ec5e8412f9420006b7b4fa660ba8d',\n",
       "  '3e812f40cd8e4ca3a92972610409922dedf1c0dbc68394fcb1c8f188a42655e2',\n",
       "  '3ebc2bd1d73e4f2f1f2af086ad724c98c8030f74c0c2be6c2d6fd538c711f35c',\n",
       "  '9789f4e2339193149452c1a42cded34f7a301a13196cd8200246af7cc1e33c3b',\n",
       "  'aefe99f12345aabc4aa2f000181008843c8abf57ccf394710b2c48ed38e1a66a',\n",
       "  '64f662d104723a4326096ffd92954e24f2bf5c3ad374f04b10fcc735bc901a4d',\n",
       "  '95a73895c9c6ee0fadb8d7da2fac25eb523fc582dc12c40ec793f0c1a70893b4',\n",
       "  '315987563da5a1f3967053d445f73107ed6388270b00fb99a9aaa26c56ecba2b',\n",
       "  '09caa1de14f86c5c19bf53cadc4206fd872a7bf71cda9814b590eb8c6e706fbb',\n",
       "  '9d04d59d713b607c81811230645ce40afae2297f1cdc1216c45080a5c2e86a5a',\n",
       "  'ab8a58ff2cf9131f9730d94b9d67f087f5d91aebc3c032b6c5b7b810c47e0132',\n",
       "  'c7c3f15b67d59190a6bbe5d98d058270aee86fe1468c73e00a4e7dcc7efcd3a0',\n",
       "  '27ef2eaa77544d2dd325ce93299fcddef0fae77ae72f510361fa6e5d831610b2',\n",
       "  '27ef2eaa77544d2dd325ce93299fcddef0fae77ae72f510361fa6e5d831610b2'],\n",
       " ['02385a4dd6c9f58a120b18a41f416e57e33dc53d68e5a27ef1965ce6b3755115',\n",
       "  '5ed38700528736c566fcff731d6b87a9c5659faf2766650130a1b99f29b9ba5c',\n",
       "  '8fca72ca8ee89e32a7483de0f66ee262e01012126cee65563fdee5ac36b8903c',\n",
       "  '1013dc83aed099eafbd769ded32f5269fff327994161ecc547bf38117a5acaa0',\n",
       "  'ee23a64ac92622b3f93f7530398a49085a51ed51dfdfa64673b1e5ff67033c19',\n",
       "  '9e5eaaea2fce5d2e8aff5b44a24fc368108cddae7018ff2f6eb3eff7181d73e8',\n",
       "  '3ed59e8098265d6e3cca3698414225704ae45e163a8b52d417089c3500b695c8',\n",
       "  'a7a31b62976e1eb902c3fd0c8b81875e420fc93f296a8d1d39a6e568d158c5af',\n",
       "  'fd31ed361650efa2e58618234980bcb66c4a7c1ff82a860fc3e2ec659021ea85',\n",
       "  '83aae9b428a7b08ab0358075218fce9b99683249b22629905c6bbbd44878a221',\n",
       "  'db148d59d83b9c0ab166e77eff0e62ed985baa52b0f30d5d46f10bd1a0637ed2',\n",
       "  'db148d59d83b9c0ab166e77eff0e62ed985baa52b0f30d5d46f10bd1a0637ed2'],\n",
       " ['b5fb96a64aa54c2368eb31066edb453ced97305fb795a1449a751e7d3e053317',\n",
       "  '87fd9f95dfc5a08eec3cb6e729d7bfa6b414881d8aaf4ebebd665cc046906a69',\n",
       "  '672d1645d37fb3a2e22a121b6b795c5bb133240ac70f4b350f922bd59df633d9',\n",
       "  '954b44c666331f7d0801b2ce2e9bc8b36458a9702d916d5b3de3ed92a7f61fb0',\n",
       "  '28c15c7c6699cdbe6742b153804f3ac32e9a22bf452e4c08c120b2ece38c790a',\n",
       "  '97714c83de18bb17c16ce70524ea9a3cb0747abc6ba6a365611db0c2f2f782f9'],\n",
       " ['7460f3909db58457a0a3384cd2167baf744a6b03125a220e083df80eaa781fbd',\n",
       "  '2993546ae04f8a64f0a9051932cc179bc0f7c74d8254066fb8e24fd49e9bf131',\n",
       "  '071cea0cc9a8a394874a2e3d53bdf5eff6708db2517029a1562d0af1b4bfadfc',\n",
       "  '071cea0cc9a8a394874a2e3d53bdf5eff6708db2517029a1562d0af1b4bfadfc'],\n",
       " ['9a9109481828dcdf08574ebb3129790f5f3229dbb733533cf9488bad0a9c0d6b',\n",
       "  'e22239034a17a55feaab2c577763a3997873b47fe893761efef923a12887d2b7'],\n",
       " ['68e6cdf0cae7fb8eef39cc899c8882e34dd1727a2d08f2303811886949c539e6']]"
      ]
     },
     "execution_count": 9,
     "metadata": {},
     "output_type": "execute_result"
    }
   ],
   "source": [
    "generate_merkle_tree(hashes=hashes)"
   ]
  },
  {
   "cell_type": "markdown",
   "metadata": {},
   "source": [
    "### Generating Merkle Proof"
   ]
  },
  {
   "cell_type": "code",
   "execution_count": 10,
   "metadata": {},
   "outputs": [
    {
     "data": {
      "text/plain": [
       "[{'hash': '41b637cfd9eb3e2f60f734f9ca44e5c1559c6f481d49d6ed6891f3e9a086ac78',\n",
       "  'direction': 'left'},\n",
       " {'hash': 'a8c0cce8bb067e91cf2766c26be4e5d7cfba3d3323dc19d08a834391a1ce5acf',\n",
       "  'direction': 'right'},\n",
       " {'hash': '1013dc83aed099eafbd769ded32f5269fff327994161ecc547bf38117a5acaa0',\n",
       "  'direction': 'right'},\n",
       " {'hash': 'b5fb96a64aa54c2368eb31066edb453ced97305fb795a1449a751e7d3e053317',\n",
       "  'direction': 'left'},\n",
       " {'hash': '2993546ae04f8a64f0a9051932cc179bc0f7c74d8254066fb8e24fd49e9bf131',\n",
       "  'direction': 'right'},\n",
       " {'hash': 'e22239034a17a55feaab2c577763a3997873b47fe893761efef923a12887d2b7',\n",
       "  'direction': 'right'}]"
      ]
     },
     "execution_count": 10,
     "metadata": {},
     "output_type": "execute_result"
    }
   ],
   "source": [
    "generatedMerkleProof = generate_merkle_proof(hash=hashes[4],hashes=hashes)\n",
    "generatedMerkleProof"
   ]
  },
  {
   "cell_type": "markdown",
   "metadata": {},
   "source": [
    "### Checking inclusion"
   ]
  },
  {
   "cell_type": "code",
   "execution_count": 11,
   "metadata": {},
   "outputs": [
    {
     "name": "stdout",
     "output_type": "stream",
     "text": [
      "Merkle Root calculated from Merkle Proof : 68e6cdf0cae7fb8eef39cc899c8882e34dd1727a2d08f2303811886949c539e6\n",
      "True\n"
     ]
    }
   ],
   "source": [
    "merkleRootFromMerkleProof = get_merkle_root_from_merkle_proof(generatedMerkleProof)\n",
    "print(\"Merkle Root calculated from Merkle Proof :\",merkleRootFromMerkleProof)\n",
    "print(merkleRootFromMerkleProof == merkleRoot)"
   ]
  }
 ],
 "metadata": {
  "kernelspec": {
   "display_name": "base",
   "language": "python",
   "name": "python3"
  },
  "language_info": {
   "codemirror_mode": {
    "name": "ipython",
    "version": 3
   },
   "file_extension": ".py",
   "mimetype": "text/x-python",
   "name": "python",
   "nbconvert_exporter": "python",
   "pygments_lexer": "ipython3",
   "version": "3.9.7"
  }
 },
 "nbformat": 4,
 "nbformat_minor": 2
}
